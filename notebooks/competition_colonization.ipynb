{
 "metadata": {
  "language_info": {
   "codemirror_mode": {
    "name": "ipython",
    "version": 3
   },
   "file_extension": ".py",
   "mimetype": "text/x-python",
   "name": "python",
   "nbconvert_exporter": "python",
   "pygments_lexer": "ipython3",
   "version": "3.8.2-final"
  },
  "orig_nbformat": 2,
  "kernelspec": {
   "name": "python38264bitsubtinetconda8ba60e0d5c274e9eaacbedda1fb01bfb",
   "display_name": "Python 3.8.2 64-bit ('subtinet': conda)"
  }
 },
 "nbformat": 4,
 "nbformat_minor": 2,
 "cells": [
  {
   "source": [
    "# Competition-Colonization Tradeoffs"
   ],
   "cell_type": "markdown",
   "metadata": {}
  },
  {
   "cell_type": "code",
   "execution_count": 4,
   "metadata": {},
   "outputs": [],
   "source": [
    "import numpy as np\n",
    "import matplotlib.pyplot as plt\n",
    "from tqdm.notebook import tqdm\n",
    "import ipywidgets as widgets\n",
    "%matplotlib widget"
   ]
  },
  {
   "source": [
    "## What is it and how do we implement it?\n",
    "The basic idea here is that some species may be less fit in terms of reproduction than their competitors but better at migration. We can represent this in our increasingly complex model by adding a sort of 'fitness' when we chose which individual migrates.\n",
    "\n",
    "Before we were assuming a probability of selecting species 1 for migration equal to the frequency of species 1 in the entire population. Now we have to consider the migration fitness ratio as well ($k_1^m / k_2^m$)\n",
    "$$\n",
    "P_m(S=1) = \\frac{(k_1^m / k_2^m)f_1^M}{(k_1^m / k_2^m)f_1^M + f_2^M}\n",
    "$$\n",
    "\n",
    "This is exactly the same function that we used for the probability of reproduction but with frequencies for the entire metacommunity and fitnesses for migration rather than reproduction."
   ],
   "cell_type": "markdown",
   "metadata": {}
  },
  {
   "cell_type": "code",
   "execution_count": 8,
   "metadata": {},
   "outputs": [],
   "source": [
    "def moran_competition_colonization(n_indiv, n_years, init_f1, avg_fit_ratio1, avg_fit_ratio2, freq_dep, fit_ratio_m, dispersal):\n",
    "    \"\"\" Implements the Moran model including constant selection and simulates it in time. \n",
    "        \n",
    "        Parameters\n",
    "        ----------\n",
    "        n_indiv: int\n",
    "            number of individuals in the community\n",
    "        n_years: int\n",
    "            number of potential 'turnovers' of the community\n",
    "        init_f1: float\n",
    "            initial frequency of species 1\n",
    "        avg_fit_ratio1: float\n",
    "            fitness ratio of species 1 and 2 when both are in equal frequency for patch 1\n",
    "        avg_fit_ratio2: float\n",
    "            fitness ratio of species 1 and 2 when both are in equal frequency for patch 2\n",
    "        freq_dep: float\n",
    "            Strength of frequency dependence for selection\n",
    "        fit_ratio_m: float\n",
    "            Dispersal ability ratio between species 1 and species 2\n",
    "        dispersal: float\n",
    "            probability that a new birth is drawn from metacommunity\n",
    "            \n",
    "        Return\n",
    "        ------\n",
    "        moran: np.array (n_years, 2)\n",
    "            contains the species frequencies for each year of the simulation \"\"\"\n",
    "\n",
    "    # For this we're going to track only species 1 and instead of the columns representing\n",
    "    # different species they will be the two different patches\n",
    "    m_patches = 2\n",
    "    moran = np.zeros((n_years, m_patches))\n",
    "    moran[0] = np.array(init_f1)\n",
    "\n",
    "    # Now our community vector is instead a metacommunity matrix\n",
    "    meta = np.random.choice([0, 1], size=(m_patches, n_indiv), replace=True, p=moran[0])\n",
    "\n",
    "    # we're going to stick the fit ratios into a list so we can access them by index\n",
    "    avg_fit_ratio = [avg_fit_ratio1, avg_fit_ratio2]\n",
    "\n",
    "    # now we can do the loop as in vellend. I'm going to write it a bit differently\n",
    "    # but the idea is basically the same. (yes its slower)\n",
    "    for year in range(1, n_years):\n",
    "\n",
    "        # we now need to check each patch as well as each year\n",
    "        for patch in range(m_patches):\n",
    "\n",
    "            # for each year in each patch we do replacement for every individual\n",
    "            for indiv in range(n_indiv):\n",
    "\n",
    "                # select patch where death occurs\n",
    "                death_patch = np.random.choice(range(m_patches))\n",
    "\n",
    "                # now every time we replace an individual we need to check whether or not\n",
    "                # dispersal occurs. Draw from entire metacommunity.\n",
    "                # Now we also consider a sort of fitness for migration\n",
    "                if np.random.uniform() < dispersal:\n",
    "                    meta_f1 = np.sum(meta == 0) / (n_indiv * m_patches)\n",
    "                    pr1 = fit_ratio_m * meta_f1 / (fit_ratio_m * meta_f1 + (1 - meta_f1))\n",
    "                # or draw from local community using our frequency dependent selection\n",
    "                else:\n",
    "                    f1 = np.sum(meta[death_patch] == 0) / n_indiv\n",
    "                    fit_ratio = avg_fit_ratio[death_patch] * np.exp(freq_dep*(f1 - 0.5))\n",
    "                    pr1 = fit_ratio * f1 / (fit_ratio * f1 + (1 - f1))\n",
    "\n",
    "                # replace one individual with another\n",
    "                death = np.random.randint(n_indiv)\n",
    "                birth = np.random.choice([0, 1], p=[pr1, 1 - pr1])\n",
    "                meta[death_patch, death] = birth\n",
    "\n",
    "            # when we're done looping over all of the individuals we can update\n",
    "            # frequencies for the year (the timescale we care about)\n",
    "            f1 = np.sum(meta[patch] == 0) / n_indiv\n",
    "            moran[year, patch] = f1\n",
    "\n",
    "    return moran"
   ]
  },
  {
   "cell_type": "code",
   "execution_count": 9,
   "metadata": {},
   "outputs": [
    {
     "output_type": "display_data",
     "data": {
      "text/plain": "interactive(children=(IntSlider(value=10, description=&#39;iterations&#39;, max=16, min=1, step=5), IntSlider(value=10…",
      "application/vnd.jupyter.widget-view+json": {
       "version_major": 2,
       "version_minor": 0,
       "model_id": "522641f0d06c402085a7a1d7126035ac"
      }
     },
     "metadata": {}
    },
    {
     "output_type": "execute_result",
     "data": {
      "text/plain": "&lt;function __main__.draw_simulation(iterations=10, individuals=100, years=50, initial_freq=0.5, avg_fit_ratio1=1.0, avg_fit_ratio2=1.0, freq_dep=0.0, fit_ratio_m=1.0, dispersal=0)&gt;"
     },
     "metadata": {},
     "execution_count": 9
    }
   ],
   "source": [
    "def draw_simulation(iterations=10, individuals=100, years=50, initial_freq=0.5, avg_fit_ratio1=1.0, avg_fit_ratio2=1.0, freq_dep=0.0, fit_ratio_m=1.0, dispersal=0):\n",
    "    # the plot bit, this just makes a blank figure\n",
    "    fig, ax = plt.subplots(ncols=3, figsize=(10,4), gridspec_kw = {'width_ratios':[2, 3, 1]})\n",
    "    # plot the frequency dependence as in Ch. 6\n",
    "    # frequency range and neutral line as above\n",
    "    f1 = np.arange(0, 1, 0.01)\n",
    "    ax[0].axhline(1, linestyle='--', color='grey', alpha=0.4)\n",
    "    # dependence curve\n",
    "    ax[0].plot(f1, avg_fit_ratio1 * np.exp(freq_dep*(f1 - 0.5)))\n",
    "    ax[0].plot(f1, avg_fit_ratio2 * np.exp(freq_dep*(f1 - 0.5)))\n",
    "    ax[0].set_xlabel('Frequency of species 1')\n",
    "    ax[0].set_ylabel('Fitness ratio 1:2')\n",
    "\n",
    "    # trajectory labels\n",
    "    ax[1].set_xlabel('Years')\n",
    "    ax[1].set_ylabel('Species 1 frequency')\n",
    "    ax[1].set_ylim([0, 1.01])\n",
    "    # distribution labels and bins\n",
    "    hist_bins = np.arange(0, 1.1, 0.1)\n",
    "    ax[2].set_xlabel('Count')\n",
    "    ax[2].set_xlim([0, iterations])\n",
    "    ax[2].set_ylim([0, 1.01])\n",
    "\n",
    "    # we're going to plot a distribution too need an array for it\n",
    "    dist1 = np.zeros(iterations)\n",
    "    dist2 = np.zeros(iterations)\n",
    "\n",
    "\n",
    "    # we run the simulation and draw a trajectory\n",
    "    for i in tqdm(range(iterations)):\n",
    "        simulation = moran_competition_colonization(individuals, years, initial_freq, avg_fit_ratio1, avg_fit_ratio2, freq_dep, fit_ratio_m, dispersal)\n",
    "        ax[1].plot(range(years), simulation[:, 0], c='C0')\n",
    "        ax[1].plot(range(years), simulation[:, 1], c='C1')\n",
    "\n",
    "        # add final freq to our dist array\n",
    "        dist1[i] = simulation[-1, 0]\n",
    "        dist2[i] = simulation[-1, 1]\n",
    "\n",
    "    # plot the distribution too\n",
    "    ax[2].hist(dist1, bins=hist_bins, orientation='horizontal', alpha=0.5, color='C0')\n",
    "    ax[2].hist(dist2, bins=hist_bins, orientation='horizontal', alpha=0.5, color='C1')\n",
    "    ax[2].axhline(np.mean(dist1), linestyle='--', c='C0')\n",
    "    ax[2].axhline(np.mean(dist2), linestyle='--', c='C1')\n",
    "\n",
    "\n",
    "\n",
    "    plt.tight_layout()    \n",
    "    plt.show()\n",
    "\n",
    "# set up the interface\n",
    "widgets.interact_manual(draw_simulation, iterations=(1, 16, 5), individuals=(10, 500, 10), years=(5, 200, 5),\n",
    "                  initial_freq=(0.0, 1.0, 0.01), avg_fit_ratio1=(0.67, 1.5, 0.01), avg_fit_ratio2=(0.67, 1.5, 0.01),\n",
    "                   freq_dep=(-1, 1, 0.01), fit_ratio_m=(0.67, 1.5, 0.01), dispersal=(0, 1, 0.01))"
   ]
  },
  {
   "cell_type": "code",
   "execution_count": null,
   "metadata": {},
   "outputs": [],
   "source": []
  }
 ]
}
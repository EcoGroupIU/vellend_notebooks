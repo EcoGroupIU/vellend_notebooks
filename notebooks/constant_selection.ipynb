{
 "cells": [
  {
   "cell_type": "markdown",
   "metadata": {},
   "source": [
    "# Constant selection\n",
    "![constant selection](../resources/constant_selection.png)"
   ]
  },
  {
   "cell_type": "code",
   "execution_count": 5,
   "metadata": {},
   "outputs": [],
   "source": [
    "import numpy as np\n",
    "import matplotlib.pyplot as plt\n",
    "from tqdm.notebook import tqdm\n",
    "import ipywidgets as widgets\n",
    "%matplotlib inline\n",
    "%matplotlib widget"
   ]
  },
  {
   "cell_type": "markdown",
   "metadata": {},
   "source": [
    "## The Moran model + constant selection\n",
    "\n",
    "\n",
    "The difference, the _only_ difference, between this and the original Moran model is that we now consider fitness in who we select when drawing an individual to reproduce. Before we considered each individual equally but now we weight individuals of each species using their fitness. \n",
    "\n",
    "we represent this weighting by the `fit_ratio` parameter which described the ratio between species 1 fitness($k_1$) and species 2 fitness ($k_2$). Inorder to do this weighting without violating the rule that the probabilities of each species must add up to 1, we do the weighting like this:\n",
    "$$\n",
    "P_{birth}(S=1) = \\frac{(k_1/k_2) f_1}{(k_1/k_2) f_1 + f_2}\n",
    "$$\n",
    "\n",
    "This is the only change we have to make to the basic Moran model to introduce constant selection, and we will never have to consider the individual species' fitnesses on their own.\n",
    "\n",
    "## Temporally varying selection\n",
    "\n",
    "Vellend also introduces a 'temporally varying' selection. He introduces this after frequency dependence but his model is more like this constant selection model so we will consider that here. In Vellend's description, the change in time comes as a change in the fitness ratio that depends on the simulated year.\n",
    "\n",
    "First let's say that we've arrived at our fitness ratio, we'll call this $\\gamma$\n",
    "\\begin{align}\n",
    "\\frac{k_1}{k_2} = \\gamma\n",
    "\\end{align}\n",
    "\n",
    "We do the temporal variation, at least the simple example vellend shows, by flipping the ratio every 10 years. In general we flip the ratio every $y_{flip}$ years. When we've gone through $y_{flip}$ years we simple redefine the fitness ratio as:\n",
    "\\begin{align}\n",
    "\\frac{k_1}{k_2} = \\gamma^{-1}\n",
    "\\end{align}\n",
    "\n",
    "I've represented this in the code with a variable called `time_dep` that can either be `True` or `False`. If its true, we do the 10 year flip as shown in the chapter."
   ]
  },
  {
   "cell_type": "code",
   "execution_count": 6,
   "metadata": {},
   "outputs": [],
   "source": [
    "def moran_constant_selection(n_indiv, n_years, init_f1, fit_ratio, time_dep):\n",
    "    \"\"\" Implements the Moran model including constant selection and simulates it in time. \n",
    "        \n",
    "        Parameters\n",
    "        ----------\n",
    "        n_indiv: int\n",
    "            number of individuals in the community\n",
    "        n_years: int\n",
    "            number of potential 'turnovers' of the community\n",
    "        init_f1: float\n",
    "            initial frequency of species 1\n",
    "        fit_ratio: float\n",
    "            ratio of fitness of species 1 to fitness of species 2\n",
    "            \n",
    "        Return\n",
    "        ------\n",
    "        moran: np.array (n_years, 2)\n",
    "            contains the species frequencies for each year of the simulation \"\"\"\n",
    "\n",
    "    # set up an empty array for the simulated frequencies\n",
    "    # initialize with the given frequency. python counts from 0, sorrryyyy\n",
    "    moran = np.zeros((n_years, 2))\n",
    "    moran[0] = np.array([init_f1, 1 - init_f1])\n",
    "\n",
    "    # get a vector representing the community. vellend calls this COM\n",
    "    # this just makes a random vector drawn from the initial frequency\n",
    "    comm = np.random.choice([0, 1], size=n_indiv, replace=True, p=moran[0])\n",
    "\n",
    "    # now we can do the loop as in vellend. I'm going to write it a bit differently\n",
    "    # but the idea is basically the same. (yes its slower)\n",
    "    for year in range(1, n_years):\n",
    "\n",
    "        # if time dependence is true we flip the fitness ratio every ten years\n",
    "        if time_dep and year % 10 == 0:\n",
    "            fit_ratio = fit_ratio**-1\n",
    "\n",
    "        # for each year we potentially replace each individual so we can loop\n",
    "        # over that as well\n",
    "        for indiv in range(n_indiv):\n",
    "            # get probability of species 1\n",
    "            f1 = np.sum(comm == 0) / n_indiv\n",
    "            pr1 = fit_ratio * f1 / (fit_ratio * f1 + (1 - f1))\n",
    "\n",
    "            # replace one individual with another\n",
    "            death = np.random.randint(n_indiv)\n",
    "            birth = np.random.choice([0, 1], p=[pr1, 1 - pr1])\n",
    "            comm[death] = birth\n",
    "        \n",
    "        # when we're done looping over all of the individuals we can update\n",
    "        # frequencies for the year (the timescale we care about)\n",
    "        f1 = np.sum(comm == 0) / n_indiv\n",
    "        moran[year] = np.array([f1, 1 - f1])\n",
    "\n",
    "    return moran"
   ]
  },
  {
   "cell_type": "markdown",
   "metadata": {},
   "source": [
    "## Running the simulations and visualization\n",
    "As before we have a bunch of messy code to draw the plots. Once again we can change parameter values in the first block and not worry about the rest (unless you want to!)"
   ]
  },
  {
   "cell_type": "code",
   "execution_count": 8,
   "metadata": {},
   "outputs": [
    {
     "output_type": "display_data",
     "data": {
      "text/plain": "interactive(children=(IntSlider(value=10, description=&#39;iterations&#39;, max=50, min=5, step=5), IntSlider(value=25…",
      "application/vnd.jupyter.widget-view+json": {
       "version_major": 2,
       "version_minor": 0,
       "model_id": "a53fe6773af045b8a43f3020c6b5553e"
      }
     },
     "metadata": {}
    },
    {
     "output_type": "execute_result",
     "data": {
      "text/plain": "&lt;function __main__.draw_simulation(iterations=10, individuals=250, years=50, initial_freq=0.5, fit_ratio=1, time_dep=False)&gt;"
     },
     "metadata": {},
     "execution_count": 8
    }
   ],
   "source": [
    "def draw_simulation(iterations=10, individuals=250, years=50, initial_freq=0.5, fit_ratio=1, time_dep=False):\n",
    "    # the plot bit, this just makes a blank plot\n",
    "    fig, ax = plt.subplots(ncols=2, figsize=(10,4), sharey=True, gridspec_kw = {'width_ratios':[3, 1]})\n",
    "    # trajectory labels\n",
    "    ax[0].set_xlabel('Years')\n",
    "    ax[0].set_ylabel('Species 1 frequency')\n",
    "    ax[0].set_ylim([0, 1])\n",
    "    # distribution labels and bins\n",
    "    hist_bins = np.arange(0, 1.1, 0.1)\n",
    "    ax[1].set_xlabel('Count')\n",
    "    ax[1].set_xlim([0, iterations])\n",
    "\n",
    "    # we're going to plot a distribution too need an array for it\n",
    "    dist = np.zeros(iterations)\n",
    "\n",
    "    # we run the simulation and draw a trajectory\n",
    "    for i in tqdm(range(iterations)):\n",
    "        simulation = moran_constant_selection(individuals, years, initial_freq, fit_ratio, time_dep)\n",
    "        ax[0].plot(range(years), simulation[:, 0], c='C0')\n",
    "        # add final freq to our dist array\n",
    "        dist[i] = simulation[-1, 0]\n",
    "\n",
    "    # plot the distribution too\n",
    "    ax[1].hist(dist, bins=hist_bins, orientation='horizontal')\n",
    "    ax[1].axhline(np.mean(dist), linestyle='--')\n",
    "\n",
    "\n",
    "    plt.tight_layout()    \n",
    "    plt.show()\n",
    "\n",
    "# set up the interface\n",
    "widgets.interact_manual(draw_simulation, iterations=(5, 50, 5), individuals=(10, 1000, 10), years=(5, 200, 5),\n",
    "                  initial_freq=(0.0, 1.0, 0.01), fit_ratio=(0.5, 1.5, 0.01), time_dep=(False))"
   ]
  },
  {
   "cell_type": "code",
   "execution_count": null,
   "metadata": {},
   "outputs": [],
   "source": []
  }
 ],
 "metadata": {
  "kernelspec": {
   "display_name": "Python 3.8.2 64-bit ('subtinet': conda)",
   "language": "python",
   "name": "python38264bitsubtinetconda8ba60e0d5c274e9eaacbedda1fb01bfb"
  },
  "language_info": {
   "codemirror_mode": {
    "name": "ipython",
    "version": 3
   },
   "file_extension": ".py",
   "mimetype": "text/x-python",
   "name": "python",
   "nbconvert_exporter": "python",
   "pygments_lexer": "ipython3",
   "version": "3.8.2-final"
  }
 },
 "nbformat": 4,
 "nbformat_minor": 4
}
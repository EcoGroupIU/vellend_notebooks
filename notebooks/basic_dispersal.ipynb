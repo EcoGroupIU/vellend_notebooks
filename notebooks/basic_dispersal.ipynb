{
 "metadata": {
  "language_info": {
   "codemirror_mode": {
    "name": "ipython",
    "version": 3
   },
   "file_extension": ".py",
   "mimetype": "text/x-python",
   "name": "python",
   "nbconvert_exporter": "python",
   "pygments_lexer": "ipython3",
   "version": "3.8.2-final"
  },
  "orig_nbformat": 2,
  "kernelspec": {
   "name": "python38264bitsubtinetconda8ba60e0d5c274e9eaacbedda1fb01bfb",
   "display_name": "Python 3.8.2 64-bit ('subtinet': conda)"
  }
 },
 "nbformat": 4,
 "nbformat_minor": 2,
 "cells": [
  {
   "source": [
    "# Dispersal in metacommunities\n",
    "![basic dispersal](../resources/basic_dispersal.png)"
   ],
   "cell_type": "markdown",
   "metadata": {}
  },
  {
   "cell_type": "code",
   "execution_count": 1,
   "metadata": {},
   "outputs": [],
   "source": [
    "import numpy as np\n",
    "import matplotlib.pyplot as plt\n",
    "import seaborn as sns\n",
    "from tqdm.notebook import tqdm\n",
    "import ipywidgets as widgets\n",
    "%matplotlib widget"
   ]
  },
  {
   "source": [
    "## Vellend's dispersal\n",
    "\n",
    "Vellend's basic description is incredibly simple. Say we have some number of patches $M$ making up our metacommunity, each with the same number of individuals. The only change we have to make is that with probability $m$ we choose a reproducing individual from the entire metacommunity rather than only the local community.\n",
    "\n",
    "$$\n",
    "P_{migration} = m\n",
    "$$\n",
    "\n",
    "Conceptually, and in the code, this mean that now we also have to check each patch in addition to each individual in each year. Now we have a total number of timesteps $=Y \\times N \\times M$. \n",
    "\n",
    "One other change is that when we choose an individual to die we also have to chose which patch the death occurs in. We uniformly select an individual in the entire metacommunity at each time step.\n",
    "\n",
    "Other than that the basic idea of the moran model changes very little."
   ],
   "cell_type": "markdown",
   "metadata": {}
  },
  {
   "cell_type": "code",
   "execution_count": 2,
   "metadata": {},
   "outputs": [],
   "source": [
    "def moran_dispersal(n_indiv, n_years, m_patches, init_f1, dispersal):\n",
    "    \"\"\" Implements the Moran model including constant selection and simulates it in time. \n",
    "        \n",
    "        Parameters\n",
    "        ----------\n",
    "        n_indiv: int\n",
    "            number of individuals in the community\n",
    "        n_years: int\n",
    "            number of potential 'turnovers' of the community\n",
    "        m_patches: int\n",
    "            number of separate patches linked by dispersal\n",
    "        init_f1: float\n",
    "            initial frequency of species 1\n",
    "        dispersal: float\n",
    "            probability that a new birth is drawn from metacommunity\n",
    "            \n",
    "        Return\n",
    "        ------\n",
    "        moran: np.array (n_years, 2)\n",
    "            contains the species frequencies for each year of the simulation \"\"\"\n",
    "\n",
    "    # For this we're going to track only species 1 and instead of the columns representing\n",
    "    # different species they will be different patches\n",
    "    moran = np.zeros((n_years, m_patches))\n",
    "    moran[0] = init_f1\n",
    "\n",
    "    # Now our community vector is instead a metacommunity matrix\n",
    "    meta = np.random.choice([0, 1], size=(m_patches, n_indiv), replace=True, p=[init_f1, 1 - init_f1])\n",
    "\n",
    "    # now we can do the loop as in vellend. I'm going to write it a bit differently\n",
    "    # but the idea is basically the same. (yes its slower)\n",
    "    for year in tqdm(range(1, n_years)):\n",
    "\n",
    "        # we now need to check each patch as well as each year\n",
    "        for patch in range(m_patches):\n",
    "\n",
    "            # for each year in each patch we do replacement for every individual\n",
    "            for indiv in range(n_indiv):\n",
    "\n",
    "                # select patch where death occurs\n",
    "                death_patch = np.random.choice(range(m_patches))\n",
    "\n",
    "                # now every time we replace an individual we need to check whether or not\n",
    "                # dispersal occurs. Draw from entire metacommunity\n",
    "                if np.random.uniform() < dispersal:\n",
    "                    pr1 = np.sum(meta == 0) / (n_indiv * m_patches)\n",
    "                # or draw from local community\n",
    "                else:    \n",
    "                    pr1 = np.sum(meta[death_patch] == 0) / n_indiv\n",
    "\n",
    "                # replace one individual with another\n",
    "                death = np.random.randint(n_indiv)\n",
    "                birth = np.random.choice([0, 1], p=[pr1, 1 - pr1])\n",
    "                meta[death_patch, death] = birth\n",
    "\n",
    "            # when we're done looping over all of the individuals we can update\n",
    "            # frequencies for the year (the timescale we care about)\n",
    "            f1 = np.sum(meta[patch] == 0) / n_indiv\n",
    "            moran[year, patch] = f1\n",
    "\n",
    "    return moran"
   ]
  },
  {
   "cell_type": "code",
   "execution_count": 3,
   "metadata": {},
   "outputs": [
    {
     "output_type": "display_data",
     "data": {
      "text/plain": "interactive(children=(IntSlider(value=250, description=&#39;individuals&#39;, max=1000, min=10, step=10), IntSlider(va…",
      "application/vnd.jupyter.widget-view+json": {
       "version_major": 2,
       "version_minor": 0,
       "model_id": "82d8d08473fd41b2a3466b05e5471027"
      }
     },
     "metadata": {}
    },
    {
     "output_type": "execute_result",
     "data": {
      "text/plain": "&lt;function __main__.draw_simulation(individuals=250, years=50, patches=10, initial_freq=0.5, dispersal=0.0)&gt;"
     },
     "metadata": {},
     "execution_count": 3
    }
   ],
   "source": [
    "def draw_simulation(individuals=250, years=50, patches=10, initial_freq=0.5, dispersal=0.0):\n",
    "    # the plot bit, this just makes a blank figure\n",
    "    fig, ax = plt.subplots(ncols=2, figsize=(10,4), gridspec_kw = {'width_ratios':[3, 1]})\n",
    "\n",
    "    # trajectory labels\n",
    "    ax[0].set_xlabel('Years')\n",
    "    ax[0].set_ylabel('Species 1 frequency by patch')\n",
    "    ax[0].set_ylim([0, 1])\n",
    "    # distribution labels and bins\n",
    "    hist_bins = np.arange(0, 1.1, 0.1)\n",
    "    ax[1].set_xlabel('Count')\n",
    "    ax[1].set_xlim([0, patches])\n",
    "    ax[1].set_ylim([0, 1])\n",
    "\n",
    "    # we're going to plot a distribution too need an array for it\n",
    "    dist = np.zeros(patches)\n",
    "\n",
    "    simulation = moran_dispersal(individuals, years, patches, initial_freq, dispersal)\n",
    "    ax[0].plot(range(years), simulation)\n",
    "    # add final freq to our dist array\n",
    "    dist = simulation[-1, :]\n",
    "\n",
    "    # plot the distribution too\n",
    "    ax[1].hist(dist, bins=hist_bins,  orientation='horizontal')\n",
    "    ax[1].axhline(np.mean(dist), linestyle='--')\n",
    "\n",
    "\n",
    "    plt.tight_layout()    \n",
    "    plt.show()\n",
    "\n",
    "# set up the interface\n",
    "widgets.interact_manual(draw_simulation, individuals=(10, 1000, 10), years=(5, 200, 5),\n",
    "                  patches=(1, 20, 1), initial_freq=(0.0, 1.0, 0.01), dispersal=(0, 1.0, 0.01))"
   ]
  },
  {
   "cell_type": "code",
   "execution_count": null,
   "metadata": {},
   "outputs": [],
   "source": []
  }
 ]
}
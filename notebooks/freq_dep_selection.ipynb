{
 "metadata": {
  "language_info": {
   "codemirror_mode": {
    "name": "ipython",
    "version": 3
   },
   "file_extension": ".py",
   "mimetype": "text/x-python",
   "name": "python",
   "nbconvert_exporter": "python",
   "pygments_lexer": "ipython3",
   "version": "3.8.2-final"
  },
  "orig_nbformat": 2,
  "kernelspec": {
   "name": "python38264bitsubtinetconda8ba60e0d5c274e9eaacbedda1fb01bfb",
   "display_name": "Python 3.8.2 64-bit ('subtinet': conda)"
  }
 },
 "nbformat": 4,
 "nbformat_minor": 2,
 "cells": [
  {
   "source": [
    "# Frequency Dependent Selection\n",
    "![frequency dependent selection](../resources/freq_dep_selection.png)"
   ],
   "cell_type": "markdown",
   "metadata": {}
  },
  {
   "cell_type": "code",
   "execution_count": 2,
   "metadata": {},
   "outputs": [],
   "source": [
    "import numpy as np\n",
    "import matplotlib.pyplot as plt\n",
    "from tqdm.notebook import tqdm\n",
    "import ipywidgets as widgets\n",
    "%matplotlib widget"
   ]
  },
  {
   "source": [
    "## Vellend's frequency-dependent selection\n",
    "\n",
    "Vellend again argues that he is talking about the same thing as Chesson in this section. It is not obvious to me why the comparisons he makes are true but it is also not obvious to me why they shouldn't be. I'm hopeful that he gets into it in later chapters.\n",
    "\n",
    "Vellend implements frequency dependent selection using two parameters and this system is sort of conceptually a full replacement of the math surrounding constant selection. Instead of an unchanging `fit_ratio` ($k_1/k_2$) we care about its average and a dependence on frequency ($-\\rho$). I've called it $-\\rho$ because its pretty clearly not \"niche overlap\" which many authors call $\\rho$. I'm going to use slightly different names in the code but their meaning is the same.\n",
    "\n",
    "| Vellend's R       | Pat's python     | Chesson's Concept   | Math symbol       |\n",
    "| :---------------- | :--------------- | :------------------ | -----------------:|\n",
    "| `fit.ratio.avg`   | `avg_fit_ratio`  | fitness differences | $\\left \\langle \\frac{k_1}{k_2}\\right \\rangle$ |\n",
    "| `freq_dep`        | `freq_dep`       | niche differences   | $-\\rho$            |\n",
    "\n",
    "As far as I can tell, the phrases attributed to Chesson are _not_ terms that Chesson actually uses instead calling $k_1/k_2$ \"fitness ratio\" (sometimes, oh chesson) and $\\rho$ niche overlap. In fact, I'm not entirely sure niche differences is supossed to correspond to $-\\rho$ but thats my best guess. I should also note that the more recent Chesson (and many others') works use $f$ for fitness instead of $k$ but we are reserving $f$ for species _frequencies_ rather than _fitnesses_.\n",
    "\n",
    "Vellend claims that this correspondance means that his description of frequency-dependent selection captures the \"crux of 'modern coexistence theory'\".\n",
    "\n",
    "Anyway, the idea here is to define some monotonic function of frequency that describes fitness. \n",
    "\n",
    "Naturally, the simplest case is a line but we need it to be symmetrical about `avg_fit_ratio` which defines the fitness advantage for species 1 when $f_1 = 0.5$. For that reason we will use a linear function for the logarithm of fitness.\n",
    "$$\n",
    "    \\log\\frac{k_1}{k_2} = -\\rho(f_1 - 0.5) + \\log\\left \\langle \\frac{k_1}{k_2}\\right \\rangle\n",
    "$$\n",
    "\n",
    "We can solve this explicitly for $k_1/k_2$ by taking the exponential of both sides. This gives us:\n",
    "$$\n",
    "    \\frac{k_1}{k_2} = \\left \\langle \\frac{k_1}{k_2}\\right \\rangle e^{-\\rho(f_1 - 0.5)}\n",
    "\n",
    "$$\n",
    "So that doesn't look like a line\n",
    "\n",
    "...but its _basically_ a line. Let's take a look.\n",
    "\n",
    "## Oscillations from the delayed Negative-frequency dependence"
   ],
   "cell_type": "markdown",
   "metadata": {}
  },
  {
   "cell_type": "code",
   "execution_count": 3,
   "metadata": {},
   "outputs": [
    {
     "output_type": "display_data",
     "data": {
      "text/plain": "Canvas(toolbar=Toolbar(toolitems=[(&#39;Home&#39;, &#39;Reset original view&#39;, &#39;home&#39;, &#39;home&#39;), (&#39;Back&#39;, &#39;Back to previous …",
      "application/vnd.jupyter.widget-view+json": {
       "version_major": 2,
       "version_minor": 0,
       "model_id": "94e569da78fb4653b74b02277b1933f8"
      }
     },
     "metadata": {}
    }
   ],
   "source": [
    "# set up plot and define a range of frequencies\n",
    "fig, ax = plt.subplots()\n",
    "f1 = np.arange(0, 1, 0.01)\n",
    "\n",
    "# put some values in for the previously described parameters\n",
    "avg_fit_ratio = 1.1\n",
    "freq_dep = [-0.2, -0.4, -0.6]\n",
    "\n",
    "# first we'll put in a dashed grey line for the neutral case\n",
    "ax.axhline(1, linestyle='--', color='grey', alpha=0.4)\n",
    "\n",
    "# we'll also put in a dotted line for the fitness when sspecies are equally frequent\n",
    "ax.axvline(0.5, linestyle='-.', color='grey', alpha=0.4)\n",
    "\n",
    "# plot some lines for each frequency dependence\n",
    "for fd in freq_dep:\n",
    "    ax.plot(f1, avg_fit_ratio * np.exp(fd*(f1 - 0.5)), label=r'$-\\rho=${}'.format(fd))\n",
    "\n",
    "# axes labels etc.\n",
    "ax.set_xlabel('Frequency of species 1')\n",
    "ax.set_ylabel('Fitness ratio 1:2')\n",
    "ax.legend()\n",
    "plt.show()"
   ]
  },
  {
   "source": [
    "## Oscilations\n",
    "Vellend also offers the fact that the math allows for pretty extreme oscillations due to species overshooting the balanced fitness frequencies. We implement this by only updating the current `fit_ratio` once per year, rather than once every timesetp. I've hard coded the extreme `freq_dep` value used in his figures which along with the delay can be turned on and off with the `delay` parameter."
   ],
   "cell_type": "markdown",
   "metadata": {}
  },
  {
   "source": [
    "Not quite a line but monotonic and pretty dang close.\n",
    "\n",
    "## Implementation of Vellend's model"
   ],
   "cell_type": "markdown",
   "metadata": {}
  },
  {
   "cell_type": "code",
   "execution_count": 7,
   "metadata": {},
   "outputs": [],
   "source": [
    "def moran_freq_dep_selection(n_indiv, n_years, init_f1, avg_fit_ratio, freq_dep, delay):\n",
    "    \"\"\" Implements the Moran model including constant selection and simulates it in time. \n",
    "        \n",
    "        Parameters\n",
    "        ----------\n",
    "        n_indiv: int\n",
    "            number of individuals in the community\n",
    "        n_years: int\n",
    "            number of potential 'turnovers' of the community\n",
    "        init_f1: float\n",
    "            initial frequency of species 1\n",
    "        avg_fit_ratio: float\n",
    "            fitness ratio of species 1 and 2 when both are in equal frequency\n",
    "            \n",
    "        Return\n",
    "        ------\n",
    "        moran: np.array (n_years, 2)\n",
    "            contains the species frequencies for each year of the simulation \"\"\"\n",
    "\n",
    "    # set up an empty array for the simulated frequencies\n",
    "    # initialize with the given frequency. python counts from 0, sorrryyyy\n",
    "    moran = np.zeros((n_years, 2))\n",
    "    moran[0] = np.array([init_f1, 1 - init_f1])\n",
    "\n",
    "    # get a vector representing the community. vellend calls this COM\n",
    "    # this just makes a random vector drawn from the initial frequency\n",
    "    comm = np.random.choice([0, 1], size=n_indiv, replace=True, p=moran[0])\n",
    "\n",
    "    # Vellend says that freq_deq < -10 must be true to notice oscillations so if the box is ticked we'll do that\n",
    "    if delay:\n",
    "        freq_dep = -10\n",
    "\n",
    "    # now we can do the loop as in vellend. I'm going to write it a bit differently\n",
    "    # but the idea is basically the same. (yes its slower)\n",
    "    for year in range(1, n_years):\n",
    "\n",
    "        # if we're delaying the frequency dependence we do that here for each year\n",
    "        if delay:\n",
    "            f1 = np.sum(comm == 0) / n_indiv\n",
    "            fit_ratio = avg_fit_ratio * np.exp(freq_dep*(f1 - 0.5))\n",
    "\n",
    "        # for each year we potentially replace each individual so we can loop\n",
    "        # over that as well\n",
    "        for indiv in range(n_indiv):\n",
    "            # get probability of species 1\n",
    "            f1 = np.sum(comm == 0) / n_indiv\n",
    "\n",
    "            # calculate the fitness ratio and probability of species 1 reproduction\n",
    "            if not delay:\n",
    "                fit_ratio = avg_fit_ratio * np.exp(freq_dep*(f1 - 0.5))\n",
    "            pr1 = fit_ratio * f1 / (fit_ratio * f1 + (1 - f1))\n",
    "\n",
    "            # replace one individual with another\n",
    "            death = np.random.randint(n_indiv)\n",
    "            birth = np.random.choice([0, 1], p=[pr1, 1 - pr1])\n",
    "            comm[death] = birth\n",
    "        \n",
    "        # when we're done looping over all of the individuals we can update\n",
    "        # frequencies for the year (the timescale we care about)\n",
    "        f1 = np.sum(comm == 0) / n_indiv\n",
    "        moran[year] = np.array([f1, 1 - f1])\n",
    "\n",
    "    return moran"
   ]
  },
  {
   "cell_type": "code",
   "execution_count": 11,
   "metadata": {},
   "outputs": [
    {
     "output_type": "display_data",
     "data": {
      "text/plain": "interactive(children=(IntSlider(value=10, description=&#39;iterations&#39;, max=50, min=5, step=5), IntSlider(value=25…",
      "application/vnd.jupyter.widget-view+json": {
       "version_major": 2,
       "version_minor": 0,
       "model_id": "01db0e34f5dc4ce5bb68063f7a600376"
      }
     },
     "metadata": {}
    },
    {
     "output_type": "execute_result",
     "data": {
      "text/plain": "&lt;function __main__.draw_simulation(iterations=10, individuals=250, years=50, initial_freq=0.5, avg_fit_ratio=1.0, freq_dep=0.0, delay=False)&gt;"
     },
     "metadata": {},
     "execution_count": 11
    }
   ],
   "source": [
    "def draw_simulation(iterations=10, individuals=250, years=50, initial_freq=0.5, avg_fit_ratio=1.0, freq_dep=0.0, delay=False):\n",
    "    # the plot bit, this just makes a blank figure\n",
    "    fig, ax = plt.subplots(ncols=3, figsize=(10,4), gridspec_kw = {'width_ratios':[2, 3, 1]})\n",
    "    # plot the frequency dependence as in Ch. 6\n",
    "    # frequency range and neutral line as above\n",
    "    f1 = np.arange(0, 1, 0.01)\n",
    "    ax[0].axhline(1, linestyle='--', color='grey', alpha=0.4)\n",
    "    # dependence curve\n",
    "    ax[0].plot(f1, avg_fit_ratio * np.exp(freq_dep*(f1 - 0.5)))\n",
    "    ax[0].set_xlabel('Frequency of species 1')\n",
    "    ax[0].set_ylabel('Fitness ratio 1:2')\n",
    "\n",
    "    # trajectory labels\n",
    "    ax[1].set_xlabel('Years')\n",
    "    ax[1].set_ylabel('Species 1 frequency')\n",
    "    ax[1].set_ylim([0, 1])\n",
    "    # distribution labels and bins\n",
    "    hist_bins = np.arange(0, 1.1, 0.1)\n",
    "    ax[2].set_xlabel('Count')\n",
    "    ax[2].set_xlim([0, iterations])\n",
    "    ax[2].set_ylim([0, 1])\n",
    "\n",
    "    # we're going to plot a distribution too need an array for it\n",
    "    dist = np.zeros(iterations)\n",
    "\n",
    "    # we run the simulation and draw a trajectory\n",
    "    for i in tqdm(range(iterations)):\n",
    "        simulation = moran_freq_dep_selection(individuals, years, initial_freq, avg_fit_ratio, freq_dep, delay)\n",
    "        ax[1].plot(range(years), simulation[:, 0], c='C0')\n",
    "        # add final freq to our dist array\n",
    "        dist[i] = simulation[-1, 0]\n",
    "\n",
    "    # plot the distribution too\n",
    "    ax[2].hist(dist, bins=hist_bins, orientation='horizontal')\n",
    "    ax[2].axhline(np.mean(dist), linestyle='--')\n",
    "\n",
    "\n",
    "    plt.tight_layout()    \n",
    "    plt.show()\n",
    "\n",
    "# set up the interface\n",
    "widgets.interact_manual(draw_simulation, iterations=(5, 50, 5), individuals=(10, 1000, 10), years=(5, 200, 5),\n",
    "                  initial_freq=(0.0, 1.0, 0.01), avg_fit_ratio=(0.67, 1.5, 0.01), freq_dep=(-1, 1, 0.01), delay=(False))"
   ]
  },
  {
   "cell_type": "code",
   "execution_count": null,
   "metadata": {},
   "outputs": [],
   "source": []
  }
 ]
}
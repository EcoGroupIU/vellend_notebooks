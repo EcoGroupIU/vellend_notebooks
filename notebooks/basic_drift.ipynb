{
 "cells": [
  {
   "cell_type": "markdown",
   "metadata": {},
   "source": [
    "# Vellend's (Moran) Drift Model\n",
    "## python edition"
   ]
  },
  {
   "cell_type": "markdown",
   "metadata": {},
   "source": [
    "### Getting started\n",
    "First we have to import a bunch of libraries to do the things we want to do. I will be using:\n",
    "- numpy: let's us do vectorized math and has lots of useful functions (I do not endore the numpy \"core team\" they are assholes)\n",
    "- matplotlib: let's us make plots (not as good as ggplot, seem like good people)\n",
    "- seaborn: more plotting options (also not as good as ggplot)\n",
    "- tqdm: progress bar, these models get slooooow"
   ]
  },
  {
   "cell_type": "code",
   "execution_count": 1,
   "metadata": {},
   "outputs": [],
   "source": [
    "import numpy as np\n",
    "import matplotlib.pyplot as plt\n",
    "import ipywidgets as widgets\n",
    "from tqdm.notebook import tqdm\n",
    "%matplotlib inline\n",
    "%matplotlib widget"
   ]
  },
  {
   "source": [
    "## The Moran Model\n",
    "The Moran model is a population genetic model first proposed by Patrick Moran in 1958. (I know a Pat Moran but he's just a terrible DJ.) In its most basic form, The Moran model tracks the changes in allele frequency due purely to genetic drift. \n",
    "\n",
    "We imagine a haploid population that has one of two alleles for some gene, say `A` and `a`. We randomly replace individuals in the population with these two alleles until one completely takes over and the other goes extinct.\n",
    "\n",
    "It seems to me, after reading this chapter that Vellend's whole idea is based around not just the application of the ideas of population genetic 'fundamental forces' but also population genetic _models_. The Moran model is classic and well understood analytically. This means that if we buy into the idea of the population genetic forces we get some nice results for free. The big shift is that instead of talking about alleles, we talk about species and instead of talking about a population, we talk about a community.\n",
    "\n",
    "In vellends description, we choose a number of years ($Y$) and for each year we perform the same set of operations a number of times equal to the number of individuals in our community ($N$). These operations are depicted here:\n",
    "\n",
    "![title](../resources/moran_model.png)\n",
    "\n",
    "The steps above are labelled with numbers:\n",
    "1. Chose a random individual to die (maybe shouldn't have used pictured of my best friend!)\n",
    "2. Chose a random living individual to reproduce\n",
    "3. Replace the dead individual with a member of the reproducing individual\n",
    "\n",
    "We perform each of these steps $Y \\times N$ times. We can precisely define some of the relevant quantities. We're going to define $S_i$ as the species label of individual $i$. Then we can define the species frequency and some important probabilities.\n",
    "\n",
    "First, the frequency each species ($s$). This is just a fancy way of saying the number of members of one species divided by the total community size.\n",
    "\\begin{align}\n",
    "f_s = \\frac{\\sum_{i=0}^N \\delta_{S_i s}}{N}\n",
    "\\end{align}\n",
    "\n",
    "What is important is the two species case that we consider in this chapter.\n",
    "\\begin{align}\n",
    "f_1 = \\frac{\\sum_{i=0}^N \\delta_{S_i 1}}{N}; \\; \\; f_2 = 1 - f_1\n",
    "\\end{align}\n",
    "\n",
    "In the steps above we draw randomly from the community which means that the probability of an individual of species 1 being chosen for reproduction is really simple.\n",
    "\\begin{align}\n",
    "P_{birth}(S = 1) = f_1; \\;\\; P_{birth}(S=2) = 1 - f_1\n",
    "\\end{align}\n",
    "\n",
    "This is dumb and obvious but later, when we introduce selection it will be much less straight-forward."
   ],
   "cell_type": "markdown",
   "metadata": {}
  },
  {
   "cell_type": "markdown",
   "metadata": {},
   "source": [
    "## Implementation of the Moran Model\n",
    "My implementation is very similar to Vellend's though I've changed some names of variables and obviously its in python rather than R. If you are interested in the R code shown in the book it is _not_ available at the link in the text but can be found [here](http://mvellend.recherche.usherbrooke.ca/TOEC.html).\n",
    "\n",
    "Here is a list of the variables as listed in Vellend as well as the name I've used, and the symbol I've used in the math if appropriate.\n",
    "\n",
    "| Vellend's R       | Pat's python      | Math symbol       |\n",
    "| :---------------- | :---------------  | -----------------:|\n",
    "| `J`               | `n_indiv`         | $N$ |\n",
    "| `init.1`          | `init_f1`         | $f_1$ |\n",
    "| `COM`             | `comm`            |             |\n",
    "| `num.years`       | `n_years`         | $Y$ |\n",
    "| `freq.1`          | `f1`              | $f_1$ |\n",
    "\n",
    "He also does some stuff in single lines that I've expanded into multiple lines (hopefully) for clarity.\n",
    "\n",
    "Finally I defined mine as a function which will allow us to use some little interactive controls."
   ]
  },
  {
   "cell_type": "code",
   "execution_count": 2,
   "metadata": {},
   "outputs": [],
   "source": [
    "def moran_model(n_indiv, n_years, init_f1):\n",
    "    \"\"\" Implements the Moran model and simulates it in time. \n",
    "        \n",
    "        Parameters\n",
    "        ----------\n",
    "        n_indiv: int\n",
    "            number of individuals in the community\n",
    "        n_years: int\n",
    "            number of potential 'turnovers' of the community\n",
    "        init_f1: float\n",
    "            initial frequency of species 1\n",
    "            \n",
    "        Return\n",
    "        ------\n",
    "        moran: np.array (n_years, 2)\n",
    "            contains the species frequencies for each year of the simulation \"\"\"\n",
    "\n",
    "    # set up an empty array for the simulated frequencies\n",
    "    # initialize with the given frequency. python counts from 0, sorrryyyy\n",
    "    moran = np.zeros((n_years, 2))\n",
    "    moran[0] = np.array([init_f1, 1 - init_f1])\n",
    "\n",
    "    # get a vector representing the community. vellend calls this COM\n",
    "    # this just makes a random vector drawn from the initial frequency\n",
    "    comm = np.random.choice([0, 1], size=n_indiv, replace=True, p=moran[0])\n",
    "\n",
    "    # now we can do the loop as in vellend. I'm going to write it a bit differently\n",
    "    # but the idea is basically the same. (yes its slower)\n",
    "    for year in range(1, n_years):\n",
    "\n",
    "        # for each year we potentially replace each individual so we can loop\n",
    "        # over that as well\n",
    "        for indiv in range(n_indiv):\n",
    "            # get probability of species 1\n",
    "            f1 = np.sum(comm == 0) / n_indiv\n",
    "\n",
    "            # replace one individual with another\n",
    "            death = np.random.randint(n_indiv)\n",
    "            birth = np.random.choice([0, 1], p=[f1, 1 - f1])\n",
    "            comm[death] = birth\n",
    "        \n",
    "        # when we're done looping over all of the individuals we can update\n",
    "        # frequencies for the year (the timescale we care about)\n",
    "        f1 = np.sum(comm == 0) / n_indiv\n",
    "        moran[year] = np.array([f1, 1 - f1])\n",
    "\n",
    "    return moran"
   ]
  },
  {
   "cell_type": "markdown",
   "metadata": {},
   "source": [
    "### Running the simulations and visualization\n",
    "This is all very messy looking. Such is plotting in python. I think I'm not really going to explain the point other than to say that the first part draws some hopefully attractive plots and the second part let's us do that interactively with a simple graphical interface."
   ]
  },
  {
   "cell_type": "code",
   "execution_count": 8,
   "metadata": {},
   "outputs": [
    {
     "output_type": "display_data",
     "data": {
      "text/plain": "interactive(children=(IntSlider(value=10, description=&#39;iterations&#39;, max=50, min=5, step=5), IntSlider(value=10…",
      "application/vnd.jupyter.widget-view+json": {
       "version_major": 2,
       "version_minor": 0,
       "model_id": "6cec180d5a7143779e2996b7772478e4"
      }
     },
     "metadata": {}
    },
    {
     "output_type": "execute_result",
     "data": {
      "text/plain": "&lt;function __main__.draw_simulation(iterations=10, individuals=250, years=50, initial_freq=0.5)&gt;"
     },
     "metadata": {},
     "execution_count": 8
    }
   ],
   "source": [
    "def draw_simulation(iterations=10, individuals=250, years=50, initial_freq=0.5):\n",
    "    # the plot bit, this just makes a blank plot\n",
    "    fig, ax = plt.subplots(ncols=2, figsize=(10,4), sharey=True, gridspec_kw = {'width_ratios':[3, 1]})\n",
    "    # trajectory labels\n",
    "    ax[0].set_xlabel('Years')\n",
    "    ax[0].set_ylabel('Species 1 frequency')\n",
    "    ax[0].set_ylim([0, 1.01])\n",
    "    # distribution labels and bins\n",
    "    hist_bins = np.arange(0, 1.1, 0.1)\n",
    "    ax[1].set_xlabel('Count')\n",
    "    ax[1].set_xlim([0, iterations])\n",
    "\n",
    "    # we're going to plot a distribution too need an array for it\n",
    "    dist = np.zeros(iterations)\n",
    "\n",
    "    # we run the simulation and draw a trajectory\n",
    "    for i in tqdm(range(iterations)):\n",
    "        simulation = moran_model(individuals, years, initial_freq)\n",
    "        ax[0].plot(range(years), simulation[:, 0], c='C0')\n",
    "        # add final freq to our dist array\n",
    "        dist[i] = simulation[-1, 0]\n",
    "\n",
    "    # plot the distribution too\n",
    "    ax[1].hist(dist, bins=hist_bins, orientation='horizontal')\n",
    "    ax[1].axhline(np.mean(dist), linestyle='--')\n",
    "\n",
    "\n",
    "    plt.tight_layout()    \n",
    "    plt.show()\n",
    "\n",
    "# set up the interface\n",
    "widgets.interact_manual(draw_simulation, iterations=(5, 50, 5), individuals=(10, 100, 10), years=(5, 200, 5),\n",
    "                  initial_freq=(0.0, 1.0, 0.01))"
   ]
  },
  {
   "cell_type": "code",
   "execution_count": null,
   "metadata": {},
   "outputs": [],
   "source": []
  }
 ],
 "metadata": {
  "kernelspec": {
   "display_name": "Python 3.8.2 64-bit ('subtinet': conda)",
   "language": "python",
   "name": "python38264bitsubtinetconda8ba60e0d5c274e9eaacbedda1fb01bfb"
  },
  "language_info": {
   "codemirror_mode": {
    "name": "ipython",
    "version": 3
   },
   "file_extension": ".py",
   "mimetype": "text/x-python",
   "name": "python",
   "nbconvert_exporter": "python",
   "pygments_lexer": "ipython3",
   "version": "3.8.2-final"
  }
 },
 "nbformat": 4,
 "nbformat_minor": 2
}
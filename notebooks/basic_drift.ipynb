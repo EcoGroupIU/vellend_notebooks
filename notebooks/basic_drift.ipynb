{
 "cells": [
  {
   "cell_type": "markdown",
   "metadata": {},
   "source": [
    "# Vellend's (Moran) Drift Model\n",
    "## python edition"
   ]
  },
  {
   "cell_type": "markdown",
   "metadata": {},
   "source": [
    "### Getting started\n",
    "First we have to import a bunch of libraries to do the things we want to do. I will be using:\n",
    "- numpy: let's us do vectorized math and has lots of useful functions (I do not endore the numpy \"core team\" they are assholes)\n",
    "- matplotlib: let's us make plots (not as good as ggplot, seem like good people)\n",
    "- seaborn: more plotting options (also not as good as ggplot)\n",
    "- tqdm: progress bar, these models get slooooow"
   ]
  },
  {
   "cell_type": "code",
   "execution_count": 4,
   "metadata": {},
   "outputs": [],
   "source": [
    "import numpy as np\n",
    "import matplotlib.pyplot as plt\n",
    "import ipywidgets as widgets\n",
    "from tqdm.notebook import tqdm\n",
    "%matplotlib inline\n",
    "%matplotlib widget"
   ]
  },
  {
   "cell_type": "markdown",
   "metadata": {},
   "source": [
    "## The Model itself\n",
    "I'm going to implement the basic Moran model shown in Ch. 6. My version will be contained as a function so we can interactively change parameter values without having to actually edit the code (yuck)"
   ]
  },
  {
   "cell_type": "code",
   "execution_count": 5,
   "metadata": {},
   "outputs": [],
   "source": [
    "def moran_model(n_indiv, n_years, init_f1):\n",
    "    \"\"\" Implements the Moran model and simulates it in time. \n",
    "        \n",
    "        Parameters\n",
    "        ----------\n",
    "        n_indiv: int\n",
    "            number of individuals in the community\n",
    "        n_years: int\n",
    "            number of potential 'turnovers' of the community\n",
    "        init_f1: float\n",
    "            initial frequency of species 1\n",
    "            \n",
    "        Return\n",
    "        ------\n",
    "        moran: np.array (n_years, 2)\n",
    "            contains the species frequencies for each year of the simulation \"\"\"\n",
    "\n",
    "    # set up an empty array for the simulated frequencies\n",
    "    # initialize with the given frequency. python counts from 0, sorrryyyy\n",
    "    moran = np.zeros((n_years, 2))\n",
    "    moran[0] = np.array([init_f1, 1 - init_f1])\n",
    "\n",
    "    # get a vector representing the community. vellend calls this COM\n",
    "    # this just makes a random vector drawn from the initial frequency\n",
    "    comm = np.random.choice([0, 1], size=n_indiv, replace=True, p=moran[0])\n",
    "\n",
    "    # now we can do the loop as in vellend. I'm going to write it a bit differently\n",
    "    # but the idea is basically the same. (yes its slower)\n",
    "    for year in range(1, n_years):\n",
    "\n",
    "        # for each year we potentially replace each individual so we can loop\n",
    "        # over that as well\n",
    "        for indiv in range(n_indiv):\n",
    "            # get probability of species 1\n",
    "            f1 = np.sum(comm == 0) / n_indiv\n",
    "\n",
    "            # replace one individual with another\n",
    "            death = np.random.randint(n_indiv)\n",
    "            birth = np.random.choice([0, 1], p=[f1, 1 - f1])\n",
    "            comm[death] = birth\n",
    "        \n",
    "        # when we're done looping over all of the individuals we can update\n",
    "        # frequencies for the year (the timescale we care about)\n",
    "        f1 = np.sum(comm == 0) / n_indiv\n",
    "        moran[year] = np.array([f1, 1 - f1])\n",
    "\n",
    "    return moran"
   ]
  },
  {
   "cell_type": "markdown",
   "metadata": {},
   "source": [
    "### Running the simulations and visualization\n",
    "now we can actually run this thing. One run isn't very interesting so we're going to run a bunch. We can change the parameters for the model in the little block at the top of this next cell"
   ]
  },
  {
   "cell_type": "code",
   "execution_count": 7,
   "metadata": {},
   "outputs": [
    {
     "data": {
      "application/vnd.jupyter.widget-view+json": {
       "model_id": "f47008124f674263a2067f3656c99b23",
       "version_major": 2,
       "version_minor": 0
      },
      "text/plain": [
       "interactive(children=(IntSlider(value=25, description='iterations', max=50, min=5, step=5), IntSlider(value=50…"
      ]
     },
     "metadata": {},
     "output_type": "display_data"
    },
    {
     "data": {
      "text/plain": [
       "<function __main__.draw_simulation(iterations, individuals, years, initial_freq)>"
      ]
     },
     "execution_count": 7,
     "metadata": {},
     "output_type": "execute_result"
    }
   ],
   "source": [
    "def draw_simulation(iterations, individuals, years, initial_freq):\n",
    "    # the plot bit, this just makes a blank plot\n",
    "    fig, ax = plt.subplots(ncols=2, figsize=(10,4), sharey=True, gridspec_kw = {'width_ratios':[3, 1]})\n",
    "    # trajectory labels\n",
    "    ax[0].set_xlabel('Years')\n",
    "    ax[0].set_ylabel('Species 1 frequency')\n",
    "    ax[0].set_ylim([0, 1])\n",
    "    # distribution labels\n",
    "    ax[1].set_xlabel('Count')\n",
    "    ax[1].set_xlim([0, iterations])\n",
    "\n",
    "    # we're going to plot a distribution too need an array for it\n",
    "    dist = np.zeros(iterations)\n",
    "\n",
    "    # we run the simulation and draw a trajectory\n",
    "    for i in tqdm(range(iterations)):\n",
    "        simulation = moran_model(individuals, years, initial_freq)\n",
    "        ax[0].plot(range(years), simulation[:, 0])\n",
    "        # add final freq to our dist array\n",
    "        dist[i] = simulation[-1, 0]\n",
    "\n",
    "    # plot the distribution too\n",
    "    ax[1].hist(dist, orientation='horizontal')\n",
    "    ax[1].axhline(np.mean(dist), linestyle='--')\n",
    "\n",
    "\n",
    "    plt.tight_layout()    \n",
    "    plt.show()\n",
    "\n",
    "# set up the interface\n",
    "widgets.interact_manual(draw_simulation, iterations=(5, 50, 5), individuals=(10, 500, 10), years=(5, 200, 5),\n",
    "                  initial_freq=(0.0, 1.0, 0.01))"
   ]
  },
  {
   "cell_type": "code",
   "execution_count": null,
   "metadata": {},
   "outputs": [],
   "source": []
  }
 ],
 "metadata": {
  "kernelspec": {
   "display_name": "Python 3.8.2 64-bit ('subtinet': conda)",
   "language": "python",
   "name": "python38264bitsubtinetconda8ba60e0d5c274e9eaacbedda1fb01bfb"
  },
  "language_info": {
   "codemirror_mode": {
    "name": "ipython",
    "version": 3
   },
   "file_extension": ".py",
   "mimetype": "text/x-python",
   "name": "python",
   "nbconvert_exporter": "python",
   "pygments_lexer": "ipython3",
   "version": "3.8.2"
  }
 },
 "nbformat": 4,
 "nbformat_minor": 2
}
